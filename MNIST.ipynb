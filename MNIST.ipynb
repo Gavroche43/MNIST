{
 "cells": [
  {
   "cell_type": "code",
   "execution_count": null,
   "id": "bfca5995",
   "metadata": {},
   "outputs": [],
   "source": [
    "import tensorflow as tf\n",
    "import tensorflow_datasets as tfds"
   ]
  },
  {
   "cell_type": "code",
   "execution_count": null,
   "id": "577117f1",
   "metadata": {},
   "outputs": [],
   "source": [
    "(train, test), info = tfds.load(name = \"mnist\", split = ['train', 'test'], as_supervised = True, with_info = True)\n",
    "assert isinstance(test, tf.data.Dataset)"
   ]
  },
  {
   "cell_type": "code",
   "execution_count": null,
   "id": "236ebb08",
   "metadata": {},
   "outputs": [],
   "source": [
    "print(info)"
   ]
  },
  {
   "cell_type": "code",
   "execution_count": null,
   "id": "196f3c31",
   "metadata": {},
   "outputs": [],
   "source": [
    "def normalize_img(image, label):\n",
    "  #Normalizes images: `uint8` -> `float32`.\n",
    "  return tf.cast(image, tf.float32) / 255., label"
   ]
  },
  {
   "cell_type": "code",
   "execution_count": null,
   "id": "8cbe9f7c",
   "metadata": {},
   "outputs": [],
   "source": [
    "train = train.map(normalize_img, num_parallel_calls=tf.data.AUTOTUNE)\n",
    "train = train.cache()\n",
    "train = train.shuffle(info.splits['train'].num_examples)\n",
    "train = train.batch(128)\n",
    "train = train.prefetch(tf.data.AUTOTUNE)\n",
    "\n",
    "test = test.map(\n",
    "    normalize_img, num_parallel_calls=tf.data.AUTOTUNE)\n",
    "test = test.batch(128)\n",
    "test = test.cache()\n",
    "test = test.prefetch(tf.data.AUTOTUNE)\n"
   ]
  },
  {
   "cell_type": "code",
   "execution_count": null,
   "id": "dfcb22ce",
   "metadata": {},
   "outputs": [],
   "source": [
    "model = tf.keras.models.Sequential([\n",
    "  tf.keras.layers.Flatten(input_shape=(28, 28)),\n",
    "  tf.keras.layers.Dense(128, activation='relu'),\n",
    "  tf.keras.layers.Dense(10)\n",
    "])"
   ]
  },
  {
   "cell_type": "code",
   "execution_count": null,
   "id": "58d1f022",
   "metadata": {},
   "outputs": [],
   "source": [
    "model.compile(\n",
    "    optimizer=tf.keras.optimizers.Adam(0.001),\n",
    "    loss=tf.keras.losses.SparseCategoricalCrossentropy(from_logits=True),\n",
    "    metrics=[tf.keras.metrics.SparseCategoricalAccuracy()],\n",
    ")"
   ]
  },
  {
   "cell_type": "code",
   "execution_count": null,
   "id": "b3a9d596",
   "metadata": {},
   "outputs": [],
   "source": [
    "#train model\n",
    "history = model.fit(\n",
    "    train,\n",
    "    epochs=6,\n",
    "    validation_data=test,\n",
    ")"
   ]
  },
  {
   "cell_type": "markdown",
   "id": "b3055844",
   "metadata": {},
   "source": [
    "Shows the improvement in accuracy through the epochs."
   ]
  },
  {
   "cell_type": "code",
   "execution_count": null,
   "id": "fd4a3524",
   "metadata": {},
   "outputs": [],
   "source": [
    "import pandas as pd"
   ]
  },
  {
   "cell_type": "code",
   "execution_count": null,
   "id": "ccdfe3e2",
   "metadata": {},
   "outputs": [],
   "source": [
    "history_df = pd.DataFrame.from_dict(history.history)\n",
    "history_df[[\"sparse_categorical_accuracy\",\"val_sparse_categorical_accuracy\"]].plot()"
   ]
  },
  {
   "cell_type": "code",
   "execution_count": null,
   "id": "6892730d",
   "metadata": {},
   "outputs": [],
   "source": [
    "import matplotlib.pyplot as plt\n",
    "import numpy as np"
   ]
  },
  {
   "cell_type": "code",
   "execution_count": null,
   "id": "14c2da5a",
   "metadata": {},
   "outputs": [],
   "source": [
    "samples = tfds.load(name = \"mnist\", split = 'test',as_supervised = True)\n",
    "assert isinstance(samples, tf.data.Dataset)"
   ]
  },
  {
   "cell_type": "markdown",
   "id": "a07531d1",
   "metadata": {},
   "source": [
    "Searches through the test data for images where the Prediction does not match the Label, then prints the prediction, the label, and the image. "
   ]
  },
  {
   "cell_type": "code",
   "execution_count": null,
   "id": "fddf4bb2",
   "metadata": {},
   "outputs": [],
   "source": [
    "#samples = samples.take(10)\n",
    "for image, label in samples:\n",
    "    image = normalize_img(image, label)\n",
    "    image = image[0]\n",
    "    image = np.array(image)\n",
    "    image = image.reshape(28,28)\n",
    "    prediction = (np.argmax(model.predict(image[np.newaxis])))\n",
    "    if label != prediction:\n",
    "        print(\"Prediction: \", prediction, \"Label: \", label)\n",
    "        fig = plt.figure\n",
    "        plt.imshow(image, cmap='gray_r')\n",
    "        plt.show()\n"
   ]
  },
  {
   "cell_type": "code",
   "execution_count": null,
   "id": "1be09cb3",
   "metadata": {},
   "outputs": [],
   "source": []
  },
  {
   "cell_type": "code",
   "execution_count": null,
   "id": "9b612970",
   "metadata": {},
   "outputs": [],
   "source": []
  }
 ],
 "metadata": {
  "kernelspec": {
   "display_name": "Python 3 (ipykernel)",
   "language": "python",
   "name": "python3"
  },
  "language_info": {
   "codemirror_mode": {
    "name": "ipython",
    "version": 3
   },
   "file_extension": ".py",
   "mimetype": "text/x-python",
   "name": "python",
   "nbconvert_exporter": "python",
   "pygments_lexer": "ipython3",
   "version": "3.10.8"
  }
 },
 "nbformat": 4,
 "nbformat_minor": 5
}
